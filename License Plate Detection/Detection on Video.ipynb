{
 "cells": [
  {
   "cell_type": "code",
   "execution_count": 1,
   "metadata": {},
   "outputs": [],
   "source": [
    "import cv2\n",
    "import pytesseract\n",
    "import numpy as np\n",
    "from PIL import ImageGrab\n",
    "import time\n",
    "import re\n",
    "import matplotlib.pyplot as plt\n",
    "import re, string \n",
    "pattern = re.compile('[\\W_]+')\n",
    "import statistics\n",
    "from statistics import mode \n",
    "\n",
    "pytesseract.pytesseract.tesseract_cmd = 'C:\\\\Program Files\\\\Tesseract-OCR\\\\tesseract.exe'"
   ]
  },
  {
   "cell_type": "code",
   "execution_count": 17,
   "metadata": {},
   "outputs": [],
   "source": [
    "def detect_plate3(image):\n",
    "    copy = image.copy()\n",
    "    gray = cv2.cvtColor(image, cv2.COLOR_BGR2GRAY)\n",
    "    edged = cv2.Canny(gray,100, 300)\n",
    "    rect_kern = cv2.getStructuringElement(cv2.MORPH_RECT, (2,2))\n",
    "    # apply dilation to make regions more clear\n",
    "    dilation = cv2.dilate(edged, rect_kern, iterations = 1)\n",
    "    contours, new  = cv2.findContours(dilation, cv2.RETR_LIST, cv2.CHAIN_APPROX_NONE)\n",
    "    contours=sorted(contours, key = cv2.contourArea, reverse = True)[:10]\n",
    "    text_list=[]\n",
    "    for contour in contours:\n",
    "        perimeter = cv2.arcLength(contour, True)\n",
    "        approx = cv2.approxPolyDP(contour, 0.07* perimeter, True)\n",
    "        #cv2.drawContours(image2,contour,-1,(0,0,255),3)\n",
    "        if len(approx)>=4 and cv2.contourArea(approx) > 3000 and cv2.contourArea(approx) < 5000:\n",
    "            x, y, w, h = cv2.boundingRect(approx)\n",
    "            #print(cv2.contourArea(contour))\n",
    "            #print(len(approx))\n",
    "            #cv2.rectangle(image2, (x , y ), (x + w , y + h ), (0, 255, 0), 3)\n",
    "            license_plate = gray[y:y + h, x:x + w]\n",
    "            b_filter = cv2.bilateralFilter(license_plate, 11, 17, 17)\n",
    "            #(thresh, license_plate_threshed) = cv2.threshold(b_filter, 150, 180, cv2.THRESH_BINARY)\n",
    "            (thresh, license_plate_threshed) = cv2.threshold(b_filter, 0, 255, cv2.THRESH_OTSU | cv2.THRESH_BINARY)\n",
    "            text = pytesseract.image_to_string(license_plate_threshed, config='-c tessedit_char_whitelist=0123456789ABCDEFGHIJKLMNOPQRSTUVWXYZ --psm 6')\n",
    "            clean_text = pattern.sub('', text)\n",
    "            if clean_text != '' and len(clean_text)==6:\n",
    "                #text_list.append(clean_text)\n",
    "                cv2.rectangle(copy, (x , y ), (x + w , y + h ), (0, 255, 0), 3)\n",
    "                cv2.putText(copy, clean_text,(x-100,y-50), cv2.FONT_HERSHEY_SIMPLEX, 2, (255, 0, 0), 2, cv2.LINE_AA)\n",
    "                #print(clean_text)\n",
    "                #print(len(approx))\n",
    "                #print(cv2.contourArea(approx))\n",
    "                print(clean_text)\n",
    "                return copy"
   ]
  },
  {
   "cell_type": "code",
   "execution_count": 18,
   "metadata": {},
   "outputs": [
    {
     "name": "stdout",
     "output_type": "stream",
     "text": [
      "Status: True\n",
      "BND500\n",
      "BND500\n",
      "BND500\n",
      "BND500\n",
      "BND500\n",
      "BNO500\n",
      "BND500\n",
      "BND500\n",
      "BND500\n",
      "BND500\n",
      "BND500\n",
      "BND500\n",
      "BND500\n",
      "BND500\n",
      "BNO500\n",
      "BND500\n",
      "BND500\n",
      "BND500\n",
      "BNO500\n"
     ]
    }
   ],
   "source": [
    "#Initilize Video capture Object and points towards a video file \n",
    "cap = cv2.VideoCapture('video3.mp4')\n",
    "fourcc = cv2.VideoWriter_fourcc(*'MP4V')\n",
    "out = cv2.VideoWriter(r'detectvid.mp4',fourcc, 20.0, (int(cap.get(3)), int(cap.get(4))))\n",
    "\n",
    "\n",
    "# Lets print the status of your Capture. \n",
    "print('Status:',cap.isOpened())\n",
    "\n",
    "# Initilize a loop in which we will read video frame by frame \n",
    "while(True):\n",
    "    ret, frame = cap.read()\n",
    "\n",
    "# if a frame is not read correctly or there are no more frames to be read the \n",
    "    if not ret: \n",
    "        break\n",
    "\n",
    "    output = detect_plate3(frame)\n",
    "    out.write(output)\n",
    "    \n",
    "out.release()\n",
    "cap.release()"
   ]
  },
  {
   "cell_type": "code",
   "execution_count": null,
   "metadata": {},
   "outputs": [],
   "source": []
  }
 ],
 "metadata": {
  "kernelspec": {
   "display_name": "Python 3",
   "language": "python",
   "name": "python3"
  },
  "language_info": {
   "codemirror_mode": {
    "name": "ipython",
    "version": 3
   },
   "file_extension": ".py",
   "mimetype": "text/x-python",
   "name": "python",
   "nbconvert_exporter": "python",
   "pygments_lexer": "ipython3",
   "version": "3.8.3"
  }
 },
 "nbformat": 4,
 "nbformat_minor": 4
}
